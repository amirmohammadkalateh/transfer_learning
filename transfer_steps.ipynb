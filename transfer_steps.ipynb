{
  "nbformat": 4,
  "nbformat_minor": 0,
  "metadata": {
    "colab": {
      "provenance": [],
      "authorship_tag": "ABX9TyNOHSTQMCaIVNUuPLe2oMo7",
      "include_colab_link": true
    },
    "kernelspec": {
      "name": "python3",
      "display_name": "Python 3"
    },
    "language_info": {
      "name": "python"
    }
  },
  "cells": [
    {
      "cell_type": "markdown",
      "metadata": {
        "id": "view-in-github",
        "colab_type": "text"
      },
      "source": [
        "<a href=\"https://colab.research.google.com/github/amirmohammadkalateh/transfer_learning/blob/main/transfer_steps.ipynb\" target=\"_parent\"><img src=\"https://colab.research.google.com/assets/colab-badge.svg\" alt=\"Open In Colab\"/></a>"
      ]
    },
    {
      "cell_type": "code",
      "execution_count": null,
      "metadata": {
        "id": "JKR4rOMQl99q"
      },
      "outputs": [],
      "source": [
        "import tensorflow as tf\n",
        "from tensorflow.keras.applications import ResNet50\n",
        "from tensorflow.keras.layers import Dense, GlobalAveragePooling2D\n",
        "from tensorflow.keras.models import Model\n",
        "from tensorflow.keras.preprocessing.image import ImageDataGenerator\n",
        "import os\n",
        "\n",
        "# 1. Load the pre-trained model (ResNet50)\n",
        "base_model = ResNet50(weights='imagenet', include_top=False, input_shape=(224, 224, 3))\n",
        "\n",
        "# 2. Modify the model\n",
        "x = base_model.output\n",
        "x = GlobalAveragePooling2D()(x) # Global average pooling to reduce dimensions\n",
        "x = Dense(1024, activation='relu')(x) # Add a dense layer\n",
        "predictions = Dense(2, activation='softmax')(x) # Output layer for 2 classes (cat/dog)\n",
        "\n",
        "model = Model(inputs=base_model.input, outputs=predictions)\n",
        "\n",
        "# 3. Freeze layers\n",
        "for layer in base_model.layers:\n",
        "    layer.trainable = False\n",
        "\n",
        "# 4. Compile the model\n",
        "model.compile(optimizer='adam', loss='categorical_crossentropy', metrics=['accuracy'])\n",
        "\n",
        "# Data Preparation (Example using ImageDataGenerator)\n",
        "# Assuming you have 'train' and 'validation' directories with cat/dog subdirectories\n",
        "\n",
        "train_datagen = ImageDataGenerator(rescale=1./255,\n",
        "                                   shear_range=0.2,\n",
        "                                   zoom_range=0.2,\n",
        "                                   horizontal_flip=True)\n",
        "\n",
        "validation_datagen = ImageDataGenerator(rescale=1./255)\n",
        "\n",
        "train_generator = train_datagen.flow_from_directory(\n",
        "    'train',  # Replace with your training data directory\n",
        "    target_size=(224, 224),\n",
        "    batch_size=32,\n",
        "    class_mode='categorical')\n",
        "\n",
        "validation_generator = validation_datagen.flow_from_directory(\n",
        "    'validation', # Replace with your validation data directory\n",
        "    target_size=(224, 224),\n",
        "    batch_size=32,\n",
        "    class_mode='categorical')\n",
        "\n",
        "# 5. Train the model\n",
        "model.fit(\n",
        "    train_generator,\n",
        "    steps_per_epoch=train_generator.samples // 32,\n",
        "    epochs=10, # Adjust epochs as needed\n",
        "    validation_data=validation_generator,\n",
        "    validation_steps=validation_generator.samples // 32)\n",
        "\n",
        "# 6. Fine-tuning (Optional)\n",
        "# Unfreeze some layers and continue training with a lower learning rate\n",
        "\n",
        "for layer in model.layers[140:]: #unfreeze last few layers, you may need to experiment.\n",
        "    layer.trainable = True\n",
        "\n",
        "model.compile(optimizer=tf.keras.optimizers.Adam(learning_rate=0.00001), #very low learning rate\n",
        "              loss='categorical_crossentropy', metrics=['accuracy'])\n",
        "\n",
        "model.fit(\n",
        "    train_generator,\n",
        "    steps_per_epoch=train_generator.samples // 32,\n",
        "    epochs=5, # Fine-tune for a few epochs\n",
        "    validation_data=validation_generator,\n",
        "    validation_steps=validation_generator.samples // 32)\n",
        "\n",
        "# Save the model\n",
        "model.save(\"cat_dog_classifier.h5\")"
      ]
    }
  ]
}