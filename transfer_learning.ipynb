{
  "nbformat": 4,
  "nbformat_minor": 0,
  "metadata": {
    "colab": {
      "provenance": [],
      "authorship_tag": "ABX9TyO/JG8ro1uvnn7p651lYRZ2",
      "include_colab_link": true
    },
    "kernelspec": {
      "name": "python3",
      "display_name": "Python 3"
    },
    "language_info": {
      "name": "python"
    }
  },
  "cells": [
    {
      "cell_type": "markdown",
      "metadata": {
        "id": "view-in-github",
        "colab_type": "text"
      },
      "source": [
        "<a href=\"https://colab.research.google.com/github/amirmohammadkalateh/transfer_learning/blob/main/transfer_learning.ipynb\" target=\"_parent\"><img src=\"https://colab.research.google.com/assets/colab-badge.svg\" alt=\"Open In Colab\"/></a>"
      ]
    },
    {
      "cell_type": "code",
      "execution_count": 105,
      "metadata": {
        "id": "oL3rRrF1LQJU"
      },
      "outputs": [],
      "source": [
        "import tensorflow as tf\n",
        "from tensorflow import keras\n",
        "import numpy as np\n",
        "import pandas as pd\n",
        "import matplotlib.pyplot as plt\n",
        "import keras\n",
        "from keras import layers\n",
        "from sklearn.preprocessing import LabelEncoder\n",
        "from sklearn.model_selection import train_test_split\n",
        "from sklearn.preprocessing import StandardScaler"
      ]
    },
    {
      "cell_type": "code",
      "source": [
        "data = pd.read_csv(\"Lung Cancer Dataset.csv\")\n",
        "print(data.describe)"
      ],
      "metadata": {
        "colab": {
          "base_uri": "https://localhost:8080/"
        },
        "collapsed": true,
        "id": "jeHzk8ybMgGD",
        "outputId": "89847152-8f69-4b72-f6d6-9fc4a8ca1e1c"
      },
      "execution_count": 119,
      "outputs": [
        {
          "output_type": "stream",
          "name": "stdout",
          "text": [
            "<bound method NDFrame.describe of       AGE  GENDER  SMOKING  FINGER_DISCOLORATION  MENTAL_STRESS  \\\n",
            "0      68       1        1                     1              1   \n",
            "1      81       1        1                     0              0   \n",
            "2      58       1        1                     0              0   \n",
            "3      44       0        1                     0              1   \n",
            "4      72       0        1                     1              1   \n",
            "...   ...     ...      ...                   ...            ...   \n",
            "4995   32       0        1                     1              0   \n",
            "4996   80       0        1                     1              1   \n",
            "4997   51       1        0                     0              1   \n",
            "4998   76       1        0                     1              0   \n",
            "4999   33       0        1                     0              0   \n",
            "\n",
            "      EXPOSURE_TO_POLLUTION  LONG_TERM_ILLNESS  ENERGY_LEVEL  IMMUNE_WEAKNESS  \\\n",
            "0                         1                  0     57.831178                0   \n",
            "1                         1                  1     47.694835                1   \n",
            "2                         0                  0     59.577435                0   \n",
            "3                         1                  0     59.785767                0   \n",
            "4                         1                  1     59.733941                0   \n",
            "...                     ...                ...           ...              ...   \n",
            "4995                      0                  1     60.700696                1   \n",
            "4996                      1                  1     50.751741                0   \n",
            "4997                      0                  0     61.063496                1   \n",
            "4998                      0                  0     48.662872                0   \n",
            "4999                      1                  1     58.245188                0   \n",
            "\n",
            "      BREATHING_ISSUE  ALCOHOL_CONSUMPTION  THROAT_DISCOMFORT  \\\n",
            "0                   0                    1                  1   \n",
            "1                   1                    0                  1   \n",
            "2                   1                    1                  0   \n",
            "3                   1                    0                  1   \n",
            "4                   1                    0                  1   \n",
            "...               ...                  ...                ...   \n",
            "4995                1                    1                  1   \n",
            "4996                1                    1                  1   \n",
            "4997                0                    0                  0   \n",
            "4998                1                    0                  1   \n",
            "4999                1                    1                  1   \n",
            "\n",
            "      OXYGEN_SATURATION  CHEST_TIGHTNESS  FAMILY_HISTORY  \\\n",
            "0             95.977287                1               0   \n",
            "1             97.184483                0               0   \n",
            "2             94.974939                0               0   \n",
            "3             95.187900                0               0   \n",
            "4             93.503008                0               0   \n",
            "...                 ...              ...             ...   \n",
            "4995          94.012495                0               1   \n",
            "4996          94.394968                0               0   \n",
            "4997          98.108901                0               0   \n",
            "4998          95.577773                1               0   \n",
            "4999          94.206934                1               0   \n",
            "\n",
            "      SMOKING_FAMILY_HISTORY  STRESS_IMMUNE PULMONARY_DISEASE  \n",
            "0                          0              0                NO  \n",
            "1                          0              0               YES  \n",
            "2                          0              0                NO  \n",
            "3                          0              0               YES  \n",
            "4                          0              0               YES  \n",
            "...                      ...            ...               ...  \n",
            "4995                       1              0               YES  \n",
            "4996                       0              0               YES  \n",
            "4997                       0              1                NO  \n",
            "4998                       0              0                NO  \n",
            "4999                       0              0                NO  \n",
            "\n",
            "[5000 rows x 18 columns]>\n"
          ]
        }
      ]
    },
    {
      "cell_type": "code",
      "source": [
        "X = data[[\"AGE\" , \"GENDER\" , \"SMOKING\" ,\"FINGER_DISCOLORATION\" , \"MENTAL_STRESS\" , \"EXPOSURE_TO_POLLUTION\" , \"LONG_TERM_ILLNESS\" ,\"ENERGY_LEVEL\" , \"IMMUNE_WEAKNESS\" ,\"BREATHING_ISSUE\" ,\"ALCOHOL_CONSUMPTION\" , \"THROAT_DISCOMFORT\" , \"OXYGEN_SATURATION\" ,\"CHEST_TIGHTNESS\" , \"FAMILY_HISTORY\" , \"SMOKING_FAMILY_HISTORY\" ,\"STRESS_IMMUNE\" ]]\n",
        "y = data[\"PULMONARY_DISEASE\"]\n"
      ],
      "metadata": {
        "id": "EuPFl7VYMSdy"
      },
      "execution_count": 120,
      "outputs": []
    },
    {
      "cell_type": "code",
      "source": [
        "label_encoder_PULMONARY_DISEASE = LabelEncoder()\n",
        "data['PULMONARY_DISEASE'] = label_encoder_PULMONARY_DISEASE.fit_transform(data['PULMONARY_DISEASE'])\n",
        "print(data[\"PULMONARY_DISEASE\"])"
      ],
      "metadata": {
        "colab": {
          "base_uri": "https://localhost:8080/"
        },
        "collapsed": true,
        "id": "NvBWu2_mRzpF",
        "outputId": "35d37c91-b5a1-487e-d3a3-f9b9ea27a00a"
      },
      "execution_count": 121,
      "outputs": [
        {
          "output_type": "stream",
          "name": "stdout",
          "text": [
            "0       0\n",
            "1       1\n",
            "2       0\n",
            "3       1\n",
            "4       1\n",
            "       ..\n",
            "4995    1\n",
            "4996    1\n",
            "4997    0\n",
            "4998    0\n",
            "4999    0\n",
            "Name: PULMONARY_DISEASE, Length: 5000, dtype: int64\n"
          ]
        }
      ]
    },
    {
      "cell_type": "code",
      "source": [
        "label_encoder = LabelEncoder()\n",
        "\n",
        "# Encoding categorical features\n",
        "categorical_cols = ['GENDER', 'SMOKING', 'FINGER_DISCOLORATION', 'MENTAL_STRESS',\n",
        "                    'EXPOSURE_TO_POLLUTION', 'LONG_TERM_ILLNESS', 'IMMUNE_WEAKNESS',\n",
        "                    'BREATHING_ISSUE', 'ALCOHOL_CONSUMPTION', 'THROAT_DISCOMFORT',\n",
        "                    'FAMILY_HISTORY', 'SMOKING_FAMILY_HISTORY', 'STRESS_IMMUNE',\n",
        "                    'PULMONARY_DISEASE']\n",
        "\n",
        "# Apply label encoding to categorical features\n",
        "for col in categorical_cols:\n",
        "    data[col] = label_encoder.fit_transform(data[col])"
      ],
      "metadata": {
        "id": "u4EknxUPY7Vi"
      },
      "execution_count": 110,
      "outputs": []
    },
    {
      "cell_type": "code",
      "source": [
        "print(X.head())\n",
        "print(y.head())\n",
        "print(data.size)\n",
        "print(data.shape)"
      ],
      "metadata": {
        "colab": {
          "base_uri": "https://localhost:8080/"
        },
        "collapsed": true,
        "id": "rlNUviUPSO-U",
        "outputId": "5ffdf30b-0fdc-4479-edf0-23af3d586d05"
      },
      "execution_count": 111,
      "outputs": [
        {
          "output_type": "stream",
          "name": "stdout",
          "text": [
            "   AGE  GENDER  SMOKING  FINGER_DISCOLORATION  MENTAL_STRESS  \\\n",
            "0   68       1        1                     1              1   \n",
            "1   81       1        1                     0              0   \n",
            "2   58       1        1                     0              0   \n",
            "3   44       0        1                     0              1   \n",
            "4   72       0        1                     1              1   \n",
            "\n",
            "   EXPOSURE_TO_POLLUTION  LONG_TERM_ILLNESS  ENERGY_LEVEL  IMMUNE_WEAKNESS  \\\n",
            "0                      1                  0     57.831178                0   \n",
            "1                      1                  1     47.694835                1   \n",
            "2                      0                  0     59.577435                0   \n",
            "3                      1                  0     59.785767                0   \n",
            "4                      1                  1     59.733941                0   \n",
            "\n",
            "   BREATHING_ISSUE  ALCOHOL_CONSUMPTION  THROAT_DISCOMFORT  OXYGEN_SATURATION  \\\n",
            "0                0                    1                  1          95.977287   \n",
            "1                1                    0                  1          97.184483   \n",
            "2                1                    1                  0          94.974939   \n",
            "3                1                    0                  1          95.187900   \n",
            "4                1                    0                  1          93.503008   \n",
            "\n",
            "   CHEST_TIGHTNESS  FAMILY_HISTORY  SMOKING_FAMILY_HISTORY  STRESS_IMMUNE  \n",
            "0                1               0                       0              0  \n",
            "1                0               0                       0              0  \n",
            "2                0               0                       0              0  \n",
            "3                0               0                       0              0  \n",
            "4                0               0                       0              0  \n",
            "0     NO\n",
            "1    YES\n",
            "2     NO\n",
            "3    YES\n",
            "4    YES\n",
            "Name: PULMONARY_DISEASE, dtype: object\n",
            "90000\n",
            "(5000, 18)\n"
          ]
        }
      ]
    },
    {
      "cell_type": "code",
      "source": [
        "X_train, X_test, y_train, y_test = train_test_split(\n",
        "    X, y,\n",
        "    test_size=0.2,\n",
        "    stratify=y,\n",
        "    random_state=42)"
      ],
      "metadata": {
        "id": "hg-GEDHxTBew"
      },
      "execution_count": 112,
      "outputs": []
    },
    {
      "cell_type": "code",
      "source": [
        "scaler = StandardScaler()\n",
        "X_train = scaler.fit_transform(X_train)\n",
        "X_test = scaler.transform(X_test)"
      ],
      "metadata": {
        "id": "R9VBbksaTRBt"
      },
      "execution_count": 113,
      "outputs": []
    },
    {
      "cell_type": "code",
      "source": [
        "model = keras.Sequential(\n",
        "    [\n",
        "        layers.Dense(128, activation=\"relu\", name=\"layer1\"),\n",
        "        layers.Dropout(0.2),\n",
        "        layers.Dense(64, activation=\"relu\", name=\"layer2\"),\n",
        "        layers.Dropout(0.2),\n",
        "        layers.Dense(32, activation=\"relu\", name=\"layer3\"),\n",
        "        layers.Dropout(0.2),\n",
        "        layers.Dense(2, activation=\"softmax\"),\n",
        "    ]\n",
        ")"
      ],
      "metadata": {
        "id": "YFN7Dg0GUHgp"
      },
      "execution_count": 114,
      "outputs": []
    },
    {
      "cell_type": "code",
      "source": [
        "model.compile(optimizer='SGD',\n",
        "              loss='mse',\n",
        "              metrics=['mae'])"
      ],
      "metadata": {
        "id": "q4SmYCsZUzNQ"
      },
      "execution_count": 115,
      "outputs": []
    },
    {
      "cell_type": "code",
      "source": [
        "model.fit(X_train,\n",
        "          y_train,\n",
        "          epochs=50,\n",
        "          batch_size=32,\n",
        "          verbose=1)"
      ],
      "metadata": {
        "colab": {
          "base_uri": "https://localhost:8080/",
          "height": 356
        },
        "id": "oPi8alZrU2rS",
        "outputId": "ae59d49b-5b51-4d86-d559-2bb1a672c8e8"
      },
      "execution_count": 118,
      "outputs": [
        {
          "output_type": "error",
          "ename": "ValueError",
          "evalue": "Invalid dtype: object",
          "traceback": [
            "\u001b[0;31m---------------------------------------------------------------------------\u001b[0m",
            "\u001b[0;31mValueError\u001b[0m                                Traceback (most recent call last)",
            "\u001b[0;32m<ipython-input-118-50526ed9e492>\u001b[0m in \u001b[0;36m<cell line: 0>\u001b[0;34m()\u001b[0m\n\u001b[0;32m----> 1\u001b[0;31m model.fit(X_train,\n\u001b[0m\u001b[1;32m      2\u001b[0m           \u001b[0my_train\u001b[0m\u001b[0;34m,\u001b[0m\u001b[0;34m\u001b[0m\u001b[0;34m\u001b[0m\u001b[0m\n\u001b[1;32m      3\u001b[0m           \u001b[0mepochs\u001b[0m\u001b[0;34m=\u001b[0m\u001b[0;36m50\u001b[0m\u001b[0;34m,\u001b[0m\u001b[0;34m\u001b[0m\u001b[0;34m\u001b[0m\u001b[0m\n\u001b[1;32m      4\u001b[0m           \u001b[0mbatch_size\u001b[0m\u001b[0;34m=\u001b[0m\u001b[0;36m32\u001b[0m\u001b[0;34m,\u001b[0m\u001b[0;34m\u001b[0m\u001b[0;34m\u001b[0m\u001b[0m\n\u001b[1;32m      5\u001b[0m           verbose=1)\n",
            "\u001b[0;32m/usr/local/lib/python3.11/dist-packages/keras/src/utils/traceback_utils.py\u001b[0m in \u001b[0;36merror_handler\u001b[0;34m(*args, **kwargs)\u001b[0m\n\u001b[1;32m    120\u001b[0m             \u001b[0;31m# To get the full stack trace, call:\u001b[0m\u001b[0;34m\u001b[0m\u001b[0;34m\u001b[0m\u001b[0m\n\u001b[1;32m    121\u001b[0m             \u001b[0;31m# `keras.config.disable_traceback_filtering()`\u001b[0m\u001b[0;34m\u001b[0m\u001b[0;34m\u001b[0m\u001b[0m\n\u001b[0;32m--> 122\u001b[0;31m             \u001b[0;32mraise\u001b[0m \u001b[0me\u001b[0m\u001b[0;34m.\u001b[0m\u001b[0mwith_traceback\u001b[0m\u001b[0;34m(\u001b[0m\u001b[0mfiltered_tb\u001b[0m\u001b[0;34m)\u001b[0m \u001b[0;32mfrom\u001b[0m \u001b[0;32mNone\u001b[0m\u001b[0;34m\u001b[0m\u001b[0;34m\u001b[0m\u001b[0m\n\u001b[0m\u001b[1;32m    123\u001b[0m         \u001b[0;32mfinally\u001b[0m\u001b[0;34m:\u001b[0m\u001b[0;34m\u001b[0m\u001b[0;34m\u001b[0m\u001b[0m\n\u001b[1;32m    124\u001b[0m             \u001b[0;32mdel\u001b[0m \u001b[0mfiltered_tb\u001b[0m\u001b[0;34m\u001b[0m\u001b[0;34m\u001b[0m\u001b[0m\n",
            "\u001b[0;32m/usr/local/lib/python3.11/dist-packages/optree/ops.py\u001b[0m in \u001b[0;36mtree_map\u001b[0;34m(func, tree, is_leaf, none_is_leaf, namespace, *rests)\u001b[0m\n\u001b[1;32m    764\u001b[0m     \u001b[0mleaves\u001b[0m\u001b[0;34m,\u001b[0m \u001b[0mtreespec\u001b[0m \u001b[0;34m=\u001b[0m \u001b[0m_C\u001b[0m\u001b[0;34m.\u001b[0m\u001b[0mflatten\u001b[0m\u001b[0;34m(\u001b[0m\u001b[0mtree\u001b[0m\u001b[0;34m,\u001b[0m \u001b[0mis_leaf\u001b[0m\u001b[0;34m,\u001b[0m \u001b[0mnone_is_leaf\u001b[0m\u001b[0;34m,\u001b[0m \u001b[0mnamespace\u001b[0m\u001b[0;34m)\u001b[0m\u001b[0;34m\u001b[0m\u001b[0;34m\u001b[0m\u001b[0m\n\u001b[1;32m    765\u001b[0m     \u001b[0mflat_args\u001b[0m \u001b[0;34m=\u001b[0m \u001b[0;34m[\u001b[0m\u001b[0mleaves\u001b[0m\u001b[0;34m]\u001b[0m \u001b[0;34m+\u001b[0m \u001b[0;34m[\u001b[0m\u001b[0mtreespec\u001b[0m\u001b[0;34m.\u001b[0m\u001b[0mflatten_up_to\u001b[0m\u001b[0;34m(\u001b[0m\u001b[0mr\u001b[0m\u001b[0;34m)\u001b[0m \u001b[0;32mfor\u001b[0m \u001b[0mr\u001b[0m \u001b[0;32min\u001b[0m \u001b[0mrests\u001b[0m\u001b[0;34m]\u001b[0m\u001b[0;34m\u001b[0m\u001b[0;34m\u001b[0m\u001b[0m\n\u001b[0;32m--> 766\u001b[0;31m     \u001b[0;32mreturn\u001b[0m \u001b[0mtreespec\u001b[0m\u001b[0;34m.\u001b[0m\u001b[0munflatten\u001b[0m\u001b[0;34m(\u001b[0m\u001b[0mmap\u001b[0m\u001b[0;34m(\u001b[0m\u001b[0mfunc\u001b[0m\u001b[0;34m,\u001b[0m \u001b[0;34m*\u001b[0m\u001b[0mflat_args\u001b[0m\u001b[0;34m)\u001b[0m\u001b[0;34m)\u001b[0m\u001b[0;34m\u001b[0m\u001b[0;34m\u001b[0m\u001b[0m\n\u001b[0m\u001b[1;32m    767\u001b[0m \u001b[0;34m\u001b[0m\u001b[0m\n\u001b[1;32m    768\u001b[0m \u001b[0;34m\u001b[0m\u001b[0m\n",
            "\u001b[0;31mValueError\u001b[0m: Invalid dtype: object"
          ]
        }
      ]
    }
  ]
}